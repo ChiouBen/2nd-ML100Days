{
 "cells": [
  {
   "cell_type": "markdown",
   "metadata": {},
   "source": [
    "## Homework 1\n",
    "請上 Kaggle, 在 Competitions 或 Dataset 中找一組競賽或資料並寫下：\n",
    "\n",
    "1. 你選的這組資料為何重要\n",
    "\n",
    "2. 資料從何而來 (tips: 譬如提供者是誰、以什麼方式蒐集)\n",
    "\n",
    "3. 蒐集而來的資料型態為何\n",
    "\n",
    "4. 這組資料想解決的問題如何評估"
   ]
  },
  {
   "cell_type": "markdown",
   "metadata": {},
   "source": [
    "## Ans.\n",
    "### Black Friday (Dataset in Kaggle)\n",
    "1. 知道用戶喜歡買什麼商品以及會買多少量，或知道怎樣的商品組合(購物籃分析)可以刺激消費為各賣場或電商公司重要的課題，因此選擇這組資料。\n",
    "2. 此組資料為Analytics Vidhya所舉辦資料競賽的資料集，資料來源為零售公司ABC Private Limited，資料內容為該公司某個月的**客戶購買摘要**。\n",
    "3. 資料型態為**結構化的表格**資料，使用csv的格式提供，其欄位包含: \n",
    "    * User_IDUser\n",
    "    * Product_IDId Product\n",
    "    * GenderBoolean\n",
    "    * AgeAge customer\n",
    "    * OccupationId Occupation of each customer\n",
    "    * City_Category\n",
    "    * Stay_In_Current_City_Years\n",
    "    * Marital_Status\n",
    "    * Product_Category_1\n",
    "    * Product_Category_2\n",
    "    * Product_Category_3\n",
    "    * Purchase Amount\n",
    "4. 這組資料想解決的問題為**預測用戶的購買量**，為監督式學習(已經有標記:用戶的購買量)裡的**迴歸問題**，我們可以採用**RMSE(Root-Mean-Square Error)**或**MAE(Mean-Absolute Error)**作為評估指標。可能做出的假設:\n",
    "    * 城市類別: 較繁華的城市因收入較高消費力也較高\n",
    "    * 客戶屬性: 年輕的女性可能消費力較高\n",
    "    * 產品屬性: 某類型的商品消費金額也較高    \n"
   ]
  },
  {
   "cell_type": "markdown",
   "metadata": {},
   "source": [
    "## Homework 2\n",
    "想像你經營一個自由載客車隊，你希望能透過數據分析以提升業績，請你思考並描述你如何規劃整體的分析/解決方案：\n",
    "\n",
    "1. 核心問題為何 (tips：如何定義 「提升業績 & 你的假設」)\n",
    "\n",
    "2. 資料從何而來 (tips：哪些資料可能會對你想問的問題產生影響 & 資料如何蒐集)\n",
    "\n",
    "3. 蒐集而來的資料型態為何\n",
    "\n",
    "4. 你要回答的問題，其如何評估 (tips：你的假設如何驗證)\n",
    "\n"
   ]
  },
  {
   "cell_type": "markdown",
   "metadata": {},
   "source": [
    "## Ans.\n",
    "1. 載客服務在不同的時間地點的情況下會影響所需要的司機數量，像是在禮拜五的下班時間在南港軟體園區會有大量的顧客需要叫車，因此我的問題為將一天分成幾個時段，預測每個時段和每個區域所需要的載客量，這樣可以適當的調配司機資源，防止司機不夠或者是司機都載不到客的情況。\n",
    "2. 需要收集的資料為每一次載客的紀錄，從顧客叫車開始到顧客到達目的地下車的詳細資訊。\n",
    "3. 蒐集到的資料為結構化的表格資料，包括但不限於:\n",
    "    * 用戶ID\n",
    "    * 用戶性別\n",
    "    * 用戶年齡\n",
    "    * 司機ID\n",
    "    * 叫車時間\n",
    "    * 上車時間\n",
    "    * 上車地點\n",
    "    * 下車時間\n",
    "    * 下車地點\n",
    "    * 車資\n",
    "4. 此問題為為**預測不同時段不同地區的載客數量**，為**迴歸問題**，我們可以採用**RMSE(Root-Mean-Square Error)**或**MAE(Mean-Absolute Error)**作為評估指標。"
   ]
  },
  {
   "cell_type": "markdown",
   "metadata": {},
   "source": [
    "## Homework 3\n",
    "#### 請寫一個函式用來計算 Mean Square Error\n",
    "$ MSE = \\frac{1}{n}\\sum_{i=1}^{n}{(Y_i - \\hat{Y}_i)^2} $"
   ]
  },
  {
   "cell_type": "code",
   "execution_count": 1,
   "metadata": {},
   "outputs": [],
   "source": [
    "import numpy as np\n",
    "import matplotlib.pyplot as plt"
   ]
  },
  {
   "cell_type": "code",
   "execution_count": 6,
   "metadata": {},
   "outputs": [],
   "source": [
    "def mean_absolute_error(y, yp):\n",
    "    \"\"\"\n",
    "    計算 MAE\n",
    "    Args:\n",
    "        - y: 實際值\n",
    "        - yp: 預測值\n",
    "    Return:\n",
    "        - mae: MAE\n",
    "    \"\"\"\n",
    "    mae = MAE = sum(abs(y - yp)) / len(y)\n",
    "    return mae\n",
    "\n",
    "def mean_squared_error(y, yp):\n",
    "    \"\"\"\n",
    "    計算 MSE\n",
    "    Args:\n",
    "        - y: 實際值\n",
    "        - yp: 預測值\n",
    "    Return:\n",
    "        - mse: MSE\n",
    "    \"\"\"\n",
    "    mse = sum((y - yp)**2) / len(y)\n",
    "    return mse"
   ]
  },
  {
   "cell_type": "code",
   "execution_count": 7,
   "metadata": {},
   "outputs": [
    {
     "data": {
      "image/png": "[encoded data removed]",
      "text/plain": [
       "<Figure size 432x288 with 1 Axes>"
      ]
     },
     "metadata": {
      "needs_background": "light"
     },
     "output_type": "display_data"
    }
   ],
   "source": [
    "w = 3\n",
    "b = 0.5\n",
    "\n",
    "x_lin = np.linspace(0, 100, 101)\n",
    "\n",
    "y = (x_lin + np.random.randn(101) * 5) * w + b\n",
    "\n",
    "plt.plot(x_lin, y, 'b.', label = 'data points')\n",
    "plt.title(\"Assume we have data points\")\n",
    "plt.legend(loc = 2)\n",
    "plt.show()"
   ]
  },
  {
   "cell_type": "code",
   "execution_count": 8,
   "metadata": {},
   "outputs": [
    {
     "data": {
      "image/png": "[encoded data removed]",
      "text/plain": [
       "<Figure size 432x288 with 1 Axes>"
      ]
     },
     "metadata": {
      "needs_background": "light"
     },
     "output_type": "display_data"
    }
   ],
   "source": [
    "y_hat = x_lin * w + b\n",
    "plt.plot(x_lin, y, 'b.', label = 'data')\n",
    "plt.plot(x_lin, y_hat, 'r-', label = 'prediction')\n",
    "plt.title(\"Assume we have data points (And the prediction)\")\n",
    "plt.legend(loc = 2)\n",
    "plt.show()"
   ]
  },
  {
   "cell_type": "code",
   "execution_count": 9,
   "metadata": {},
   "outputs": [
    {
     "name": "stdout",
     "output_type": "stream",
     "text": [
      "The Mean squared error is 234.331\n",
      "The Mean absolute error is 12.046\n"
     ]
    }
   ],
   "source": [
    "# 執行 Function, 確認有沒有正常執行\n",
    "MSE = mean_squared_error(y, y_hat)\n",
    "MAE = mean_absolute_error(y, y_hat)\n",
    "print(\"The Mean squared error is %.3f\" % (MSE))\n",
    "print(\"The Mean absolute error is %.3f\" % (MAE))"
   ]
  }
 ],
 "metadata": {
  "anaconda-cloud": {},
  "kernelspec": {
   "display_name": "Python 3",
   "language": "python",
   "name": "python3"
  },
  "language_info": {
   "codemirror_mode": {
    "name": "ipython",
    "version": 3
   },
   "file_extension": ".py",
   "mimetype": "text/x-python",
   "name": "python",
   "nbconvert_exporter": "python",
   "pygments_lexer": "ipython3",
   "version": "3.7.3"
  }
 },
 "nbformat": 4,
 "nbformat_minor": 1
}
