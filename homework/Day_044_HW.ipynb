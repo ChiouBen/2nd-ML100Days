{
 "cells": [
  {
   "cell_type": "markdown",
   "metadata": {},
   "source": [
    "## [作業重點]\n",
    "確保你了解隨機森林模型中每個超參數的意義，並觀察調整超參數對結果的影響"
   ]
  },
  {
   "cell_type": "markdown",
   "metadata": {},
   "source": [
    "## 作業\n",
    "\n",
    "1. 試著調整 RandomForestClassifier(...) 中的參數，並觀察是否會改變結果？\n",
    "2. 改用其他資料集 (boston, wine)，並與回歸模型與決策樹的結果進行比較"
   ]
  },
  {
   "cell_type": "code",
   "execution_count": 3,
   "metadata": {},
   "outputs": [],
   "source": [
    "import numpy as np\n",
    "import matplotlib.pyplot as plt\n",
    "from sklearn import datasets, linear_model\n",
    "from sklearn.model_selection import train_test_split\n",
    "from sklearn.metrics import mean_squared_error, r2_score\n",
    "from sklearn.ensemble import RandomForestClassifier, RandomForestRegressor\n",
    "\n",
    "boston = datasets.load_boston()"
   ]
  },
  {
   "cell_type": "code",
   "execution_count": 6,
   "metadata": {},
   "outputs": [
    {
     "name": "stdout",
     "output_type": "stream",
     "text": [
      "Mean squared error: 25.42\n"
     ]
    }
   ],
   "source": [
    "x_train, x_test, y_train, y_test = train_test_split(boston.data, boston.target, test_size=0.2, random_state=4)\n",
    "\n",
    "regr = linear_model.LinearRegression()\n",
    "regr.fit(x_train, y_train)\n",
    "y_pred = regr.predict(x_test)\n",
    "\n",
    "print(\"Mean squared error: %.2f\"\n",
    "      % mean_squared_error(y_test, y_pred))"
   ]
  },
  {
   "cell_type": "code",
   "execution_count": 7,
   "metadata": {},
   "outputs": [
    {
     "name": "stdout",
     "output_type": "stream",
     "text": [
      "Mean squared error: 19.21\n",
      "['CRIM' 'ZN' 'INDUS' 'CHAS' 'NOX' 'RM' 'AGE' 'DIS' 'RAD' 'TAX' 'PTRATIO'\n",
      " 'B' 'LSTAT']\n",
      "Feature importance:  [5.44230606e-02 1.51960454e-05 3.50346979e-03 1.20573722e-03\n",
      " 1.20550299e-02 5.14571510e-01 5.04961331e-03 5.91988253e-02\n",
      " 1.46214623e-03 1.94031873e-03 1.37378649e-02 2.67975416e-03\n",
      " 3.30157474e-01]\n"
     ]
    }
   ],
   "source": [
    "clf = RandomForestRegressor(n_estimators=20, max_depth=4)\n",
    "clf.fit(x_train, y_train)\n",
    "y_pred = clf.predict(x_test)\n",
    "\n",
    "print(\"Mean squared error: %.2f\"\n",
    "      % mean_squared_error(y_test, y_pred))\n",
    "print(boston.feature_names)\n",
    "print(\"Feature importance: \", clf.feature_importances_)"
   ]
  },
  {
   "cell_type": "code",
   "execution_count": 8,
   "metadata": {},
   "outputs": [
    {
     "name": "stdout",
     "output_type": "stream",
     "text": [
      "depth=2, n_estimators=10\n",
      "Mean squared error: 35.30\n",
      "depth=4, n_estimators=10\n",
      "Mean squared error: 19.72\n",
      "depth=6, n_estimators=10\n",
      "Mean squared error: 17.50\n",
      "depth=8, n_estimators=10\n",
      "Mean squared error: 20.45\n",
      "depth=2, n_estimators=20\n",
      "Mean squared error: 30.51\n",
      "depth=4, n_estimators=20\n",
      "Mean squared error: 17.40\n",
      "depth=6, n_estimators=20\n",
      "Mean squared error: 19.17\n",
      "depth=8, n_estimators=20\n",
      "Mean squared error: 18.93\n",
      "depth=2, n_estimators=30\n",
      "Mean squared error: 31.96\n",
      "depth=4, n_estimators=30\n",
      "Mean squared error: 20.57\n",
      "depth=6, n_estimators=30\n",
      "Mean squared error: 16.60\n",
      "depth=8, n_estimators=30\n",
      "Mean squared error: 19.54\n",
      "depth=2, n_estimators=40\n",
      "Mean squared error: 31.53\n",
      "depth=4, n_estimators=40\n",
      "Mean squared error: 20.94\n",
      "depth=6, n_estimators=40\n",
      "Mean squared error: 16.86\n",
      "depth=8, n_estimators=40\n",
      "Mean squared error: 17.28\n"
     ]
    }
   ],
   "source": [
    "from itertools import product\n",
    "n = [10, 20, 30, 40]\n",
    "depth = [2, 4, 6, 8]\n",
    "\n",
    "for n, depth in product(n, depth):\n",
    "    clf = RandomForestRegressor(n_estimators=n, max_depth=depth)\n",
    "    clf.fit(x_train, y_train)\n",
    "    y_pred = clf.predict(x_test)\n",
    "    print(f\"depth={depth}, n_estimators={n}\")\n",
    "    print(\"Mean squared error: %.2f\"\n",
    "          % mean_squared_error(y_test, y_pred))"
   ]
  },
  {
   "cell_type": "code",
   "execution_count": null,
   "metadata": {},
   "outputs": [],
   "source": []
  }
 ],
 "metadata": {
  "kernelspec": {
   "display_name": "Python 3",
   "language": "python",
   "name": "python3"
  },
  "language_info": {
   "codemirror_mode": {
    "name": "ipython",
    "version": 3
   },
   "file_extension": ".py",
   "mimetype": "text/x-python",
   "name": "python",
   "nbconvert_exporter": "python",
   "pygments_lexer": "ipython3",
   "version": "3.7.3"
  }
 },
 "nbformat": 4,
 "nbformat_minor": 2
}
