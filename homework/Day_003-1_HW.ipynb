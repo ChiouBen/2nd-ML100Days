{
 "cells": [
  {
   "cell_type": "markdown",
   "metadata": {},
   "source": [
    "## 練習時間\n",
    "在小量的資料上，我們用眼睛就可以看得出來程式碼是否有跑出我們理想中的結果\n",
    "\n",
    "請嘗試想像一個你需要的資料結構 (裡面的值可以是隨機的)，然後用上述的方法把它變成 pandas DataFrame\n",
    "\n",
    "#### Ex: 想像一個 dataframe 有兩個欄位，一個是國家，一個是人口，求人口數最多的國家\n",
    "\n",
    "### Hints: [隨機產生數值](https://blog.csdn.net/christianashannon/article/details/78867204)"
   ]
  },
  {
   "cell_type": "code",
   "execution_count": 25,
   "metadata": {},
   "outputs": [],
   "source": [
    "import pandas as pd\n",
    "import numpy as np"
   ]
  },
  {
   "cell_type": "code",
   "execution_count": 26,
   "metadata": {},
   "outputs": [
    {
     "data": {
      "text/plain": [
       "['a_country', 'b_country', 'c_country', 'd_country', 'e_country']"
      ]
     },
     "execution_count": 26,
     "metadata": {},
     "output_type": "execute_result"
    }
   ],
   "source": [
    "# 產生26個國家\n",
    "import string\n",
    "str = string.ascii_lowercase\n",
    "country = []\n",
    "for i in str:\n",
    "    country.append(i + '_country')\n",
    "country[0:5]"
   ]
  },
  {
   "cell_type": "code",
   "execution_count": 27,
   "metadata": {},
   "outputs": [
    {
     "data": {
      "text/plain": [
       "[13939315, 80874957, 82555638, 85853062, 53099680]"
      ]
     },
     "execution_count": 27,
     "metadata": {},
     "output_type": "execute_result"
    }
   ],
   "source": [
    "# 隨機產生國家的人口數\n",
    "np.random.seed(5)\n",
    "population = np.random.randint(10000, 100000000, size=len(country)).tolist()\n",
    "population[0:5]"
   ]
  },
  {
   "cell_type": "code",
   "execution_count": 35,
   "metadata": {},
   "outputs": [],
   "source": [
    "column_name = ['country', 'population']\n",
    "column_value = [country, population]\n",
    "zipped = list(zip(column_name, column_value))"
   ]
  },
  {
   "cell_type": "code",
   "execution_count": 36,
   "metadata": {},
   "outputs": [
    {
     "name": "stdout",
     "output_type": "stream",
     "text": [
      "      country  population\n",
      "0   a_country    13939315\n",
      "1   b_country    80874957\n",
      "2   c_country    82555638\n",
      "3   d_country    85853062\n",
      "4   e_country    53099680\n",
      "5   f_country    45944665\n",
      "6   g_country    84454168\n",
      "7   h_country    77293047\n",
      "8   i_country    93368014\n",
      "9   j_country    68333739\n",
      "10  k_country    44626304\n",
      "11  l_country    79114670\n",
      "12  m_country    76838368\n",
      "13  n_country    66798871\n",
      "14  o_country    94803932\n",
      "15  p_country      960159\n",
      "16  q_country    78355653\n",
      "17  r_country    84579168\n",
      "18  s_country    29957931\n",
      "19  t_country    16370492\n",
      "20  u_country     8857051\n",
      "21  v_country    61739857\n",
      "22  w_country    21214399\n",
      "23  x_country    73671982\n",
      "24  y_country    71541606\n",
      "25  z_country    34305421\n"
     ]
    }
   ],
   "source": [
    "# 創建 dataframe \n",
    "df = pd.DataFrame(dict(zipped))\n",
    "print(df)"
   ]
  },
  {
   "cell_type": "code",
   "execution_count": 43,
   "metadata": {},
   "outputs": [
    {
     "data": {
      "text/plain": [
       "14    o_country\n",
       "Name: country, dtype: object"
      ]
     },
     "execution_count": 43,
     "metadata": {},
     "output_type": "execute_result"
    }
   ],
   "source": [
    "# 求人口數最多的國家\n",
    "max_value = df.population.max()\n",
    "df[df['population'] == max_value].country"
   ]
  }
 ],
 "metadata": {
  "kernelspec": {
   "display_name": "Python 3",
   "language": "python",
   "name": "python3"
  },
  "language_info": {
   "codemirror_mode": {
    "name": "ipython",
    "version": 3
   },
   "file_extension": ".py",
   "mimetype": "text/x-python",
   "name": "python",
   "nbconvert_exporter": "python",
   "pygments_lexer": "ipython3",
   "version": "3.7.3"
  }
 },
 "nbformat": 4,
 "nbformat_minor": 2
}
