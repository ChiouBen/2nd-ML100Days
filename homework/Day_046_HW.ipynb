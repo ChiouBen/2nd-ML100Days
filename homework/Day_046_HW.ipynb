{
 "cells": [
  {
   "cell_type": "markdown",
   "metadata": {},
   "source": [
    "### 作業\n",
    "目前已經學過許多的模型，相信大家對整體流程應該比較掌握了，這次作業請改用**手寫辨識資料集**，步驟流程都是一樣的，請試著自己撰寫程式碼來完成所有步驟"
   ]
  },
  {
   "cell_type": "code",
   "execution_count": 1,
   "metadata": {},
   "outputs": [],
   "source": [
    "from sklearn import datasets, metrics\n",
    "digits = datasets.load_digits()"
   ]
  },
  {
   "cell_type": "code",
   "execution_count": 9,
   "metadata": {},
   "outputs": [
    {
     "data": {
      "image/png": "[encoded data removed]",
      "text/plain": [
       "<Figure size 216x216 with 1 Axes>"
      ]
     },
     "metadata": {
      "needs_background": "light"
     },
     "output_type": "display_data"
    },
    {
     "name": "stdout",
     "output_type": "stream",
     "text": [
      "0\n"
     ]
    },
    {
     "data": {
      "image/png": "[encoded data removed]",
      "text/plain": [
       "<Figure size 432x288 with 1 Axes>"
      ]
     },
     "metadata": {
      "needs_background": "light"
     },
     "output_type": "display_data"
    },
    {
     "name": "stdout",
     "output_type": "stream",
     "text": [
      "1\n"
     ]
    },
    {
     "data": {
      "image/png": "[encoded data removed]",
      "text/plain": [
       "<Figure size 432x288 with 1 Axes>"
      ]
     },
     "metadata": {
      "needs_background": "light"
     },
     "output_type": "display_data"
    },
    {
     "name": "stdout",
     "output_type": "stream",
     "text": [
      "2\n"
     ]
    },
    {
     "data": {
      "image/png": "[encoded data removed]",
      "text/plain": [
       "<Figure size 432x288 with 1 Axes>"
      ]
     },
     "metadata": {
      "needs_background": "light"
     },
     "output_type": "display_data"
    },
    {
     "name": "stdout",
     "output_type": "stream",
     "text": [
      "3\n"
     ]
    },
    {
     "data": {
      "image/png": "[encoded data removed]",
      "text/plain": [
       "<Figure size 432x288 with 1 Axes>"
      ]
     },
     "metadata": {
      "needs_background": "light"
     },
     "output_type": "display_data"
    },
    {
     "name": "stdout",
     "output_type": "stream",
     "text": [
      "4\n"
     ]
    }
   ],
   "source": [
    "import matplotlib.pyplot as plt\n",
    "\n",
    "plt.figure(1, figsize=(3, 3))\n",
    "for idx in range(5):\n",
    "    plt.imshow(digits.images[idx], cmap=plt.cm.gray_r, interpolation='nearest')\n",
    "    plt.show()\n",
    "    print(digits.target[idx])"
   ]
  },
  {
   "cell_type": "code",
   "execution_count": 15,
   "metadata": {},
   "outputs": [
    {
     "name": "stdout",
     "output_type": "stream",
     "text": [
      "learing_rate: 0.01, n_estimators: 100\n",
      "Acuuracy:  0.9\n",
      "learing_rate: 0.01, n_estimators: 200\n",
      "Acuuracy:  0.9377777777777778\n",
      "learing_rate: 0.01, n_estimators: 300\n",
      "Acuuracy:  0.9444444444444444\n",
      "learing_rate: 0.05, n_estimators: 100\n",
      "Acuuracy:  0.9533333333333334\n",
      "learing_rate: 0.05, n_estimators: 200\n",
      "Acuuracy:  0.9666666666666667\n",
      "learing_rate: 0.05, n_estimators: 300\n",
      "Acuuracy:  0.9688888888888889\n",
      "learing_rate: 0.1, n_estimators: 100\n",
      "Acuuracy:  0.9666666666666667\n",
      "learing_rate: 0.1, n_estimators: 200\n",
      "Acuuracy:  0.9644444444444444\n",
      "learing_rate: 0.1, n_estimators: 300\n",
      "Acuuracy:  0.9644444444444444\n"
     ]
    }
   ],
   "source": [
    "from sklearn.ensemble import GradientBoostingClassifier\n",
    "from sklearn.model_selection import train_test_split\n",
    "\n",
    "from itertools import product\n",
    "\n",
    "x_train, x_test, y_train, y_test = train_test_split(digits.data, digits.target, test_size=0.25, random_state=4)\n",
    "\n",
    "#loss = [\"deviance\", \"exponential\"]\n",
    "learning_rate = [0.01, 0.05, 0.1] \n",
    "n_estimators = [100, 200, 300]\n",
    "\n",
    "for l, n in product(learning_rate, n_estimators):\n",
    "\n",
    "    clf = GradientBoostingClassifier(learning_rate=l, n_estimators=n)\n",
    "    clf.fit(x_train, y_train)\n",
    "    y_pred = clf.predict(x_test)\n",
    "\n",
    "    acc = metrics.accuracy_score(y_test, y_pred)\n",
    "    print(f\"learing_rate: {l}, n_estimators: {n}\")\n",
    "    print(\"Acuuracy: \", acc)"
   ]
  },
  {
   "cell_type": "code",
   "execution_count": null,
   "metadata": {},
   "outputs": [],
   "source": []
  }
 ],
 "metadata": {
  "kernelspec": {
   "display_name": "Python 3",
   "language": "python",
   "name": "python3"
  },
  "language_info": {
   "codemirror_mode": {
    "name": "ipython",
    "version": 3
   },
   "file_extension": ".py",
   "mimetype": "text/x-python",
   "name": "python",
   "nbconvert_exporter": "python",
   "pygments_lexer": "ipython3",
   "version": "3.7.3"
  }
 },
 "nbformat": 4,
 "nbformat_minor": 2
}
