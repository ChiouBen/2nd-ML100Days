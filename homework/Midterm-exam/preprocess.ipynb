{
 "cells": [
  {
   "cell_type": "code",
   "execution_count": 27,
   "metadata": {},
   "outputs": [],
   "source": [
    "import os\n",
    "import numpy as np\n",
    "import pandas as pd\n",
    "from datetime import date\n",
    "import datetime\n",
    "from sklearn.metrics import roc_auc_score, accuracy_score\n",
    "from sklearn.ensemble import RandomForestClassifier, GradientBoostingClassifier\n",
    "\n",
    "\n",
    "DATA_ROOT = \"./data/\"\n",
    "df_train = pd.read_csv(os.path.join(DATA_ROOT,'train_offline.csv'))\n",
    "df_test = pd.read_csv(os.path.join(DATA_ROOT,'test_offline.csv'))"
   ]
  },
  {
   "cell_type": "code",
   "execution_count": 28,
   "metadata": {},
   "outputs": [],
   "source": [
    "# 轉換時間\n",
    "def use_days(row):\n",
    "    if np.isnan(row['Date_received']):\n",
    "        return -1\n",
    "    if not np.isnan(row['Date']):\n",
    "        td = pd.to_datetime(row['Date'], format='%Y%m%d') -  pd.to_datetime(row['Date_received'], format='%Y%m%d')\n",
    "        if td <= pd.Timedelta(15, 'D'):\n",
    "            return 1\n",
    "    return 0\n",
    "\n",
    "df_train['Date_received'] = pd.to_datetime(df_train['Date_received'], format='%Y%m%d')\n",
    "df_train['Date'] = pd.to_datetime(df_train['Date'], format='%Y%m%d')\n",
    "df_test['Date_received'] = pd.to_datetime(df_test['Date_received'], format='%Y%m%d')\n",
    "df_train['use_days'] = (df_train.Date-df_train.Date_received).astype('timedelta64[D]')\n",
    "df_train[['use_days']] = df_train[['use_days']].fillna(-1)\n",
    "\n",
    "# 補距離遺失值\n",
    "df_train[['Distance']] = df_train[['Distance']].fillna(99)\n",
    "df_test[['Distance']] = df_test[['Distance']].fillna(99)"
   ]
  },
  {
   "cell_type": "code",
   "execution_count": 29,
   "metadata": {},
   "outputs": [],
   "source": [
    "# 用戶直接消費\n",
    "train_purch = df_train[pd.isnull(df_train.Date_received)]\n",
    "test_purch = df_test[pd.isnull(df_test.Date_received)]\n",
    "\n",
    "# 用戶取得優惠卷\n",
    "train_received = df_train[pd.notnull(df_train.Date_received)]\n",
    "test_received = df_test[pd.notnull(df_test.Date_received)]"
   ]
  },
  {
   "cell_type": "code",
   "execution_count": 30,
   "metadata": {},
   "outputs": [
    {
     "name": "stderr",
     "output_type": "stream",
     "text": [
      "D:\\Anacoda3\\lib\\site-packages\\ipykernel_launcher.py:9: SettingWithCopyWarning: \n",
      "A value is trying to be set on a copy of a slice from a DataFrame.\n",
      "Try using .loc[row_indexer,col_indexer] = value instead\n",
      "\n",
      "See the caveats in the documentation: http://pandas.pydata.org/pandas-docs/stable/indexing.html#indexing-view-versus-copy\n",
      "  if __name__ == '__main__':\n"
     ]
    },
    {
     "data": {
      "text/plain": [
       "0    704033\n",
       "1     42936\n",
       "Name: label, dtype: int64"
      ]
     },
     "execution_count": 30,
     "metadata": {},
     "output_type": "execute_result"
    }
   ],
   "source": [
    "# 建立label標籤\n",
    "def label(row):\n",
    "    if row['use_days'] < 0:\n",
    "        return 0\n",
    "    elif row['use_days'] < 16:\n",
    "        return 1\n",
    "    else:\n",
    "        return 1\n",
    "train_received[\"label\"] = train_received.apply(label, axis=1)\n",
    "train_received[\"label\"].value_counts()"
   ]
  },
  {
   "cell_type": "code",
   "execution_count": 31,
   "metadata": {},
   "outputs": [
    {
     "name": "stderr",
     "output_type": "stream",
     "text": [
      "D:\\Anacoda3\\lib\\site-packages\\ipykernel_launcher.py:36: SettingWithCopyWarning: \n",
      "A value is trying to be set on a copy of a slice from a DataFrame.\n",
      "Try using .loc[row_indexer,col_indexer] = value instead\n",
      "\n",
      "See the caveats in the documentation: http://pandas.pydata.org/pandas-docs/stable/indexing.html#indexing-view-versus-copy\n",
      "D:\\Anacoda3\\lib\\site-packages\\ipykernel_launcher.py:37: SettingWithCopyWarning: \n",
      "A value is trying to be set on a copy of a slice from a DataFrame.\n",
      "Try using .loc[row_indexer,col_indexer] = value instead\n",
      "\n",
      "See the caveats in the documentation: http://pandas.pydata.org/pandas-docs/stable/indexing.html#indexing-view-versus-copy\n",
      "D:\\Anacoda3\\lib\\site-packages\\ipykernel_launcher.py:38: SettingWithCopyWarning: \n",
      "A value is trying to be set on a copy of a slice from a DataFrame.\n",
      "Try using .loc[row_indexer,col_indexer] = value instead\n",
      "\n",
      "See the caveats in the documentation: http://pandas.pydata.org/pandas-docs/stable/indexing.html#indexing-view-versus-copy\n",
      "D:\\Anacoda3\\lib\\site-packages\\ipykernel_launcher.py:39: SettingWithCopyWarning: \n",
      "A value is trying to be set on a copy of a slice from a DataFrame.\n",
      "Try using .loc[row_indexer,col_indexer] = value instead\n",
      "\n",
      "See the caveats in the documentation: http://pandas.pydata.org/pandas-docs/stable/indexing.html#indexing-view-versus-copy\n",
      "D:\\Anacoda3\\lib\\site-packages\\ipykernel_launcher.py:40: SettingWithCopyWarning: \n",
      "A value is trying to be set on a copy of a slice from a DataFrame.\n",
      "Try using .loc[row_indexer,col_indexer] = value instead\n",
      "\n",
      "See the caveats in the documentation: http://pandas.pydata.org/pandas-docs/stable/indexing.html#indexing-view-versus-copy\n"
     ]
    }
   ],
   "source": [
    "def getDiscountType(row):\n",
    "    if row == 'null':\n",
    "        return 'null'\n",
    "    elif ':' in row:\n",
    "        return 'diff'\n",
    "    else:\n",
    "        return 'rate'\n",
    "\n",
    "def convertRate(row):\n",
    "    \"\"\"Convert discount to rate\"\"\"\n",
    "    if row == 'null':\n",
    "        return 1.0\n",
    "    elif ':' in row:\n",
    "        rows = row.split(':')\n",
    "        return 1.0 - float(rows[1])/float(rows[0])\n",
    "    else:\n",
    "        return float(row)\n",
    "\n",
    "def getDiscountTotal(row):\n",
    "    if ':' in row:\n",
    "        rows = row.split(':')\n",
    "        return int(rows[0])\n",
    "    else:\n",
    "        return 0\n",
    "\n",
    "def getDiscountPrice(row):\n",
    "    if ':' in row:\n",
    "        rows = row.split(':')\n",
    "        return int(rows[1])\n",
    "    else:\n",
    "        return 0\n",
    "\n",
    "def processData(df):\n",
    "    \n",
    "    # convert discunt_rate\n",
    "    df['discount_rate'] = df['Discount_rate'].astype('str').apply(convertRate)\n",
    "    df['discount_type'] = df['Discount_rate'].astype('str').apply(getDiscountType)\n",
    "    df['discount_total'] = df['Discount_rate'].astype('str').apply(getDiscountTotal)\n",
    "    df['discount_price'] = df['Discount_rate'].astype('str').apply(getDiscountPrice)\n",
    "    df['coupon_type'] = df[[\"discount_rate\", \"discount_type\", \"discount_total\", \"discount_price\"]].apply(lambda x: ''.join(str(x.values)), axis=1)\n",
    "    \n",
    "    return df\n",
    "\n",
    "train_received = processData(train_received)\n",
    "test_received = processData(test_received)"
   ]
  },
  {
   "cell_type": "code",
   "execution_count": 32,
   "metadata": {},
   "outputs": [
    {
     "name": "stderr",
     "output_type": "stream",
     "text": [
      "D:\\Anacoda3\\lib\\site-packages\\ipykernel_launcher.py:5: SettingWithCopyWarning: \n",
      "A value is trying to be set on a copy of a slice from a DataFrame.\n",
      "Try using .loc[row_indexer,col_indexer] = value instead\n",
      "\n",
      "See the caveats in the documentation: http://pandas.pydata.org/pandas-docs/stable/indexing.html#indexing-view-versus-copy\n",
      "  \"\"\"\n",
      "D:\\Anacoda3\\lib\\site-packages\\ipykernel_launcher.py:6: SettingWithCopyWarning: \n",
      "A value is trying to be set on a copy of a slice from a DataFrame.\n",
      "Try using .loc[row_indexer,col_indexer] = value instead\n",
      "\n",
      "See the caveats in the documentation: http://pandas.pydata.org/pandas-docs/stable/indexing.html#indexing-view-versus-copy\n",
      "  \n",
      "D:\\Anacoda3\\lib\\site-packages\\ipykernel_launcher.py:9: SettingWithCopyWarning: \n",
      "A value is trying to be set on a copy of a slice from a DataFrame.\n",
      "Try using .loc[row_indexer,col_indexer] = value instead\n",
      "\n",
      "See the caveats in the documentation: http://pandas.pydata.org/pandas-docs/stable/indexing.html#indexing-view-versus-copy\n",
      "  if __name__ == '__main__':\n",
      "D:\\Anacoda3\\lib\\site-packages\\ipykernel_launcher.py:10: SettingWithCopyWarning: \n",
      "A value is trying to be set on a copy of a slice from a DataFrame.\n",
      "Try using .loc[row_indexer,col_indexer] = value instead\n",
      "\n",
      "See the caveats in the documentation: http://pandas.pydata.org/pandas-docs/stable/indexing.html#indexing-view-versus-copy\n",
      "  # Remove the CWD from sys.path while we load stuff.\n"
     ]
    }
   ],
   "source": [
    "# Generate features - weekday acquired coupon\n",
    "def getWeekday(row):\n",
    "    return row.dayofweek+1 # add one to make it from 0~6 -> 1~7\n",
    "\n",
    "train_received['weekday'] = train_received['Date_received'].apply(getWeekday)\n",
    "test_received['weekday'] = test_received['Date_received'].apply(getWeekday)\n",
    "\n",
    "# weekday_type (weekend = 1)\n",
    "train_received['weekday_type'] = train_received['weekday'].astype('str').apply(lambda x : 1 if x in [6,7] else 0 )\n",
    "test_received['weekday_type'] = test_received['weekday'].astype('str').apply(lambda x : 1 if x in [6,7] else 0 ) "
   ]
  },
  {
   "cell_type": "code",
   "execution_count": 34,
   "metadata": {},
   "outputs": [],
   "source": [
    "# disable\n",
    "def get_the_same_counpon2(df):\n",
    "    base_df = df_train[['User_id','Coupon_id','Date_received']]\n",
    "    base_df = base_df.groupby(['User_id', 'Coupon_id', 'Date_received']).size().reset_index()[['User_id', 'Coupon_id', 'Date_received']]\n",
    "    \n",
    "    ba2_df = base_df.merge(base_df, on=['User_id','Coupon_id'])\n",
    "    ba2_df = ba2_df[ba2_df.Date_received_x > ba2_df.Date_received_y]\n",
    "    ba2_df['Date_received_x'] = ba2_df['Date_received_x'].astype(object)\n",
    "\n",
    "    f1 = ba2_df.groupby(['User_id','Coupon_id','Date_received_x'])['Date_received_y'].count().reset_index()\n",
    "    f1 = f1.rename(index=str, columns={\"Date_received_y\": \"the_same_counpon_cnt\"})\n",
    "    f2 = ba2_df.groupby(['User_id','Coupon_id','Date_received_x'])['Date_received_y'].max().reset_index()\n",
    "    f1['Date_received_x'] = f1['Date_received_x'].astype(object)\n",
    "    f2['Date_received_x'] = f2['Date_received_x'].astype(object)\n",
    "\n",
    "    ba2_df = ba2_df.merge(f2, how='left', left_on=['User_id','Coupon_id','Date_received_x'], right_on=['User_id','Coupon_id','Date_received_x'])\n",
    "    ba2_df = ba2_df.merge(f1, how='left', left_on=['User_id','Coupon_id','Date_received_x'], right_on=['User_id','Coupon_id','Date_received_x'])\n",
    "\n",
    "    ba2_df['coupon_get_last_days'] = (pd.to_datetime(ba2_df['Date_received_x']) - pd.to_datetime(ba2_df['Date_received_y_x'])).astype('timedelta64[D]')\n",
    "    ba2_df = ba2_df.rename(index=str, columns={\"Date_received_x\": \"Date_received\"})\n",
    "    \n",
    "\n",
    "    return ba2_df"
   ]
  },
  {
   "cell_type": "code",
   "execution_count": 35,
   "metadata": {},
   "outputs": [],
   "source": [
    "# disable\n",
    "def get_coupon_from(df_train, df_purch, df_test):\n",
    "    base_df = pd.concat([df_train[['User_id','Merchant_id','coupon_type','Date_received']],\n",
    "                    df_test[['User_id','Merchant_id','coupon_type','Date_received']]])\n",
    "    base_df = base_df.groupby(['User_id', 'Merchant_id', 'Date_received']).size().reset_index()[['User_id', 'Merchant_id', 'Date_received']]\n",
    "    ref_df = df_train[['User_id','Merchant_id','coupon_type','Date_received','use_days' ,'Date']]\n",
    "    ref_df = ref_df[ref_df.Date.notna()]\n",
    "    tmp_df = df_purch[['User_id','Merchant_id','Coupon_id','Date_received','use_days' ,'Date']]\n",
    "    tmp_df = tmp_df.rename(index=str, columns={\"Coupon_id\": \"coupon_type\"})\n",
    "    tmp_df = tmp_df[tmp_df.Date.notna()]\n",
    "    ref_df = pd.concat([ref_df,tmp_df])\n",
    "    base_df['Date_received'] = base_df['Date_received'].astype(object)\n",
    "    ref_df['Date'] = ref_df['Date'].astype(object)\n",
    "    base_df = base_df.merge(ref_df,how='inner', left_on=['User_id','Merchant_id','Date_received'], right_on=['User_id','Merchant_id','Date'] )\n",
    "    base_df = base_df.rename(index=str, columns={\"Date_received_x\": \"Date_received\"})\n",
    "\n",
    "    m1 = base_df.groupby(['User_id','Merchant_id','Date_received'])['use_days'].count().reset_index()\n",
    "    m1 = m1.rename(index=str, columns={\"use_days\": \"counpon_from_purch_cnt\"})\n",
    "\n",
    "    return m1"
   ]
  },
  {
   "cell_type": "code",
   "execution_count": 36,
   "metadata": {},
   "outputs": [],
   "source": [
    "def get_user_coupon_sta(df_train, df_test):\n",
    "    d1 = pd.concat([df_train[['User_id','Merchant_id','coupon_type','Date_received']],\n",
    "                    df_test[['User_id','Merchant_id','coupon_type','Date_received']]])\n",
    "    df1 = df_train[['User_id','Merchant_id','coupon_type','Date_received','label','use_days']]\n",
    "    df1 = d1.merge(df1, how='left', left_on=['User_id','coupon_type'], right_on=['User_id','coupon_type'])\n",
    "    df1 = df1[df1.Date_received_x > df1.Date_received_y]\n",
    "    dd1 = df1.groupby(['User_id','coupon_type','Date_received_x'])['label'].count().reset_index()\n",
    "    dd2 = df1[df1.label == 1].groupby(['User_id','coupon_type','Date_received_x'])['label'].count().reset_index()\n",
    "    dd3 = df1[df1.label == 1].groupby(['User_id','coupon_type','Date_received_x'])['use_days'].min().reset_index()\n",
    "    dd1 = dd1.merge(dd2, how='left', left_on=['User_id','coupon_type','Date_received_x'], right_on=['User_id','coupon_type','Date_received_x'])\n",
    "    dd1 = dd1.fillna(0)\n",
    "    dd1 = dd1.merge(dd3, how='left', left_on=['User_id','coupon_type','Date_received_x'], right_on=['User_id','coupon_type','Date_received_x'])\n",
    "    dd1 = dd1.fillna(1000)\n",
    "    dd1['user_coupon_use_ratio'] = dd1['label_y']/dd1['label_x']\n",
    "    dd1 = dd1.rename(index=str, columns={\"Date_received_x\": \"Date_received\", \"label_x\": \"user_total_coupon\"\n",
    "                                         , \"label_y\": \"user_use_coupon\", \"use_days\":\"user_coupon_mean_days\"})\n",
    "    \n",
    "    return dd1"
   ]
  },
  {
   "cell_type": "code",
   "execution_count": 55,
   "metadata": {},
   "outputs": [],
   "source": [
    "# disable\n",
    "def get_coupon_number(df_train, df_test):   \n",
    "    \n",
    "    def coupon_total_cnt(row):\n",
    "        coupon_type = row['coupon_type']\n",
    "        Date_received = row['Date_received']\n",
    "        x = df1[(df1.coupon_type==coupon_type) & (df1.Date_received<Date_received)].shape[0]\n",
    "        return x\n",
    "\n",
    "    def coupon_use_cnt(row):\n",
    "        coupon_type = row['coupon_type']\n",
    "        Date_received = row['Date_received']\n",
    "        x = df1[(df1.label == 1) & (df1.coupon_type==coupon_type) & (df1.Date_received<Date_received)].shape[0]\n",
    "        return x \n",
    "    \n",
    "    d1 = pd.concat([df_train[['User_id','Merchant_id','coupon_type','Date_received']],\n",
    "                    df_test[['User_id','Merchant_id','coupon_type','Date_received']]])\n",
    "    d1 = d1.groupby(['coupon_type','Date_received']).size().reset_index()[['coupon_type','Date_received']]\n",
    "    df1 = df_train[['User_id','Merchant_id','coupon_type','Date_received','label','use_days']]\n",
    "\n",
    "    \n",
    "    d1['coupon_total_cnt'] = d1.apply(coupon_total_cnt, axis=1)\n",
    "    d1['coupon_use_cnt'] = d1.apply(coupon_use_cnt, axis=1)\n",
    "\n",
    "    d1['coupon_ratio'] = d1['coupon_use_cnt'] / d1['coupon_total_cnt']\n",
    "    d1 = d1.fillna(0)\n",
    "\n",
    "    return d1"
   ]
  },
  {
   "cell_type": "code",
   "execution_count": 56,
   "metadata": {},
   "outputs": [],
   "source": [
    "def get_user_number(df_train, df_test):\n",
    "    d1 = pd.concat([df_train[['User_id','Merchant_id','coupon_type','Date_received']],\n",
    "                    df_test[['User_id','Merchant_id','coupon_type','Date_received']]])\n",
    "    df1 = df_train[['User_id','Merchant_id','coupon_type','Date_received','label','use_days']]\n",
    "    df1 = d1.merge(df1, how='left', left_on=['User_id'], right_on=['User_id'])\n",
    "    df1 = df1[df1.Date_received_x > df1.Date_received_y]\n",
    "\n",
    "    dd1 = df1.groupby(['User_id','Date_received_x'])['label'].count().reset_index()\n",
    "    dd2 = df1[df1.label == 1].groupby(['User_id','Date_received_x'])['label'].count().reset_index()\n",
    "    dd3 = df1[df1.label == 1].groupby(['User_id','Date_received_x'])['use_days'].min().reset_index()\n",
    "    dd1 = dd1.merge(dd2, how='left', left_on=['User_id','Date_received_x'], right_on=['User_id','Date_received_x'])\n",
    "    dd1 = dd1.fillna(0)\n",
    "    dd1 = dd1.merge(dd3, how='left', left_on=['User_id','Date_received_x'], right_on=['User_id','Date_received_x'])\n",
    "    dd1 = dd1.fillna(1000)\n",
    "    dd1['acoupon_ratio'] = dd1['label_y']/dd1['label_x']\n",
    "    dd4 = df1.groupby(['User_id','Date_received_x'])['Date_received_y'].min().reset_index()\n",
    "    dd1 = dd1.merge(dd4, how='left', left_on=['User_id','Date_received_x'], right_on=['User_id','Date_received_x'])\n",
    "    dd1['coupon_use_last_days'] = (pd.to_datetime(dd1['Date_received_x']) - pd.to_datetime(dd1['Date_received_y'])).astype('timedelta64[D]')\n",
    "    dd1 = dd1.rename(index=str, columns={\"Date_received_x\": \"Date_received\", \"label_x\": \"auser_total_cnt\"\n",
    "                                         , \"label_y\": \"auser_use_cnt\", \"use_days\":\"user_mean_days\", \"Date_received_y\":\"coupon_use_last_date\"})\n",
    "\n",
    "    return dd1"
   ]
  },
  {
   "cell_type": "code",
   "execution_count": 57,
   "metadata": {},
   "outputs": [],
   "source": [
    "def get_merchant_coupon_number(df):\n",
    "    \n",
    "    base = df[['User_id','Merchant_id','coupon_type','Date_received']]\n",
    "    f1 = base.groupby(['Merchant_id'])['User_id'].count().reset_index()\n",
    "    f1 = f1.rename(index=str, columns={'User_id':'send_coupon_cnt'})\n",
    "    \n",
    "    return f1"
   ]
  },
  {
   "cell_type": "code",
   "execution_count": 58,
   "metadata": {},
   "outputs": [],
   "source": [
    "def get_user_coupon_number(df):\n",
    "    \n",
    "    base = df[['User_id','Merchant_id','coupon_type','Date_received']]\n",
    "    f1 = base.groupby(['User_id'])['Merchant_id'].count().reset_index()\n",
    "    f1 = f1.rename(index=str, columns={'Merchant_id':'user_recieved_coupon_cnt'})\n",
    "    \n",
    "    return f1"
   ]
  },
  {
   "cell_type": "code",
   "execution_count": 59,
   "metadata": {},
   "outputs": [],
   "source": [
    "def get_coupon_id_number(df):\n",
    "    \n",
    "    base = df[['User_id','Merchant_id','Coupon_id','Date_received']]\n",
    "    f1 = base.groupby(['User_id', 'Coupon_id'])['Merchant_id'].count().reset_index()\n",
    "    f1 = f1.rename(index=str, columns={'Merchant_id':'coupon_id_recieved_coupon_cnt'})\n",
    "    \n",
    "    return f1"
   ]
  },
  {
   "cell_type": "code",
   "execution_count": 60,
   "metadata": {},
   "outputs": [],
   "source": [
    "def get_user_purch_number(df):\n",
    "    \n",
    "    base = df[['User_id','Merchant_id','Coupon_id','Date_received']]\n",
    "    f1 = base.groupby(['User_id'])['Merchant_id'].count().reset_index()\n",
    "    f1 = f1.rename(index=str, columns={'Merchant_id':'user_purch_cnt'})\n",
    "    \n",
    "    return f1"
   ]
  },
  {
   "cell_type": "code",
   "execution_count": 61,
   "metadata": {},
   "outputs": [],
   "source": [
    "###### 我是分隔線 #######\n",
    "#pretrain_received = pd.read_pickle(\"./pretrain_received.pkl\")\n",
    "#valid_received = pd.read_pickle(\"./valid_received.pkl\")"
   ]
  },
  {
   "cell_type": "code",
   "execution_count": 62,
   "metadata": {},
   "outputs": [],
   "source": [
    "# 建立feature of pretrain and valid data\n",
    "valid_date = '20160416'\n",
    "pretrain_received = train_received[train_received.Date_received < pd.to_datetime(valid_date, format=\"%Y%m%d\")]\n",
    "valid_received = train_received[train_received.Date_received >= pd.to_datetime(valid_date, format=\"%Y%m%d\")]\n",
    "pretrain_purch = train_purch[train_purch.Date < pd.to_datetime(valid_date, format=\"%Y%m%d\")]\n",
    "valid_purch = train_purch[train_purch.Date >= pd.to_datetime(valid_date, format=\"%Y%m%d\")]"
   ]
  },
  {
   "cell_type": "code",
   "execution_count": 63,
   "metadata": {},
   "outputs": [],
   "source": [
    "user_cnt = get_user_number(pretrain_received, valid_received)\n",
    "pretrain_received = pretrain_received.merge(user_cnt, how='left', left_on=['User_id','Date_received'], right_on=['User_id','Date_received'])\n",
    "valid_received = valid_received.merge(user_cnt, how='left', left_on=['User_id','Date_received'], right_on=['User_id','Date_received'] )"
   ]
  },
  {
   "cell_type": "code",
   "execution_count": 64,
   "metadata": {},
   "outputs": [],
   "source": [
    "user_coupon_cnt = get_user_coupon_sta(pretrain_received, valid_received)\n",
    "pretrain_received = pretrain_received.merge(user_coupon_cnt, how='left', left_on=['User_id','coupon_type','Date_received'], right_on=['User_id','coupon_type','Date_received'])\n",
    "valid_received = valid_received.merge(user_coupon_cnt, how='left', left_on=['User_id','coupon_type','Date_received'], right_on=['User_id','coupon_type','Date_received'] )"
   ]
  },
  {
   "cell_type": "code",
   "execution_count": 65,
   "metadata": {},
   "outputs": [],
   "source": [
    "merchant_cnt = get_merchant_coupon_number(pretrain_received)\n",
    "pretrain_received = pretrain_received.merge(merchant_cnt, how='left', on = 'Merchant_id')\n",
    "merchant_cnt = get_merchant_coupon_number(valid_received)\n",
    "valid_received = valid_received.merge(merchant_cnt, how='left', on = 'Merchant_id')"
   ]
  },
  {
   "cell_type": "code",
   "execution_count": 66,
   "metadata": {},
   "outputs": [],
   "source": [
    "user_cnt = get_user_coupon_number(pretrain_received)\n",
    "pretrain_received = pretrain_received.merge(user_cnt, how='left', on = 'User_id')\n",
    "user_cnt = get_user_coupon_number(valid_received)\n",
    "valid_received = valid_received.merge(user_cnt, how='left', on = 'User_id')"
   ]
  },
  {
   "cell_type": "code",
   "execution_count": 67,
   "metadata": {},
   "outputs": [],
   "source": [
    "coupon_cnt = get_coupon_id_number(pretrain_received)\n",
    "pretrain_received = pretrain_received.merge(coupon_cnt, how='left', on = ['User_id','Coupon_id'])\n",
    "coupon_cnt = get_coupon_id_number(valid_received)\n",
    "valid_received = valid_received.merge(coupon_cnt, how='left', on = ['User_id','Coupon_id'])"
   ]
  },
  {
   "cell_type": "code",
   "execution_count": 68,
   "metadata": {},
   "outputs": [],
   "source": [
    "purch_cnt = get_user_purch_number(pretrain_purch)\n",
    "pretrain_received = pretrain_received.merge(purch_cnt, how='left', on = ['User_id'])\n",
    "purch_cnt = get_user_purch_number(valid_purch)\n",
    "valid_received = valid_received.merge(purch_cnt, how='left', on = ['User_id'])\n",
    "pretrain_received = pretrain_received.fillna(0)\n",
    "valid_received = valid_received.fillna(0)"
   ]
  },
  {
   "cell_type": "code",
   "execution_count": 100,
   "metadata": {},
   "outputs": [],
   "source": [
    "pretrain_received.to_pickle(\"./pretrain_received.pkl\")\n",
    "valid_received.to_pickle(\"./valid_received.pkl\")"
   ]
  },
  {
   "cell_type": "code",
   "execution_count": 69,
   "metadata": {},
   "outputs": [
    {
     "data": {
      "text/plain": [
       "label                            1.000000\n",
       "use_days                         0.718476\n",
       "user_coupon_use_ratio            0.256518\n",
       "acoupon_ratio                    0.229249\n",
       "user_purch_cnt                   0.224103\n",
       "coupon_id_recieved_coupon_cnt    0.218260\n",
       "auser_use_cnt                    0.132325\n",
       "user_use_coupon                  0.131705\n",
       "user_recieved_coupon_cnt         0.107545\n",
       "user_total_coupon                0.100418\n",
       "coupon_use_last_days             0.097542\n",
       "auser_total_cnt                  0.071877\n",
       "Coupon_id                        0.011965\n",
       "Merchant_id                      0.011054\n",
       "User_id                         -0.000146\n",
       "user_coupon_mean_days           -0.003805\n",
       "user_mean_days                  -0.003963\n",
       "weekday                         -0.012617\n",
       "Distance                        -0.020537\n",
       "send_coupon_cnt                 -0.081829\n",
       "discount_rate                   -0.089685\n",
       "discount_price                  -0.127560\n",
       "discount_total                  -0.144074\n",
       "weekday_type                          NaN\n",
       "Name: label, dtype: float64"
      ]
     },
     "execution_count": 69,
     "metadata": {},
     "output_type": "execute_result"
    }
   ],
   "source": [
    "pretrain_received.corr()['label'].sort_values(ascending=False)"
   ]
  },
  {
   "cell_type": "code",
   "execution_count": 70,
   "metadata": {},
   "outputs": [
    {
     "data": {
      "text/plain": [
       "Index(['User_id', 'Merchant_id', 'Coupon_id', 'Discount_rate', 'Distance',\n",
       "       'Date_received', 'Date', 'use_days', 'label', 'discount_rate',\n",
       "       'discount_type', 'discount_total', 'discount_price', 'coupon_type',\n",
       "       'weekday', 'weekday_type', 'auser_total_cnt', 'auser_use_cnt',\n",
       "       'user_mean_days', 'acoupon_ratio', 'coupon_use_last_date',\n",
       "       'coupon_use_last_days', 'user_total_coupon', 'user_use_coupon',\n",
       "       'user_coupon_mean_days', 'user_coupon_use_ratio', 'send_coupon_cnt',\n",
       "       'user_recieved_coupon_cnt', 'coupon_id_recieved_coupon_cnt',\n",
       "       'user_purch_cnt'],\n",
       "      dtype='object')"
      ]
     },
     "execution_count": 70,
     "metadata": {},
     "output_type": "execute_result"
    }
   ],
   "source": [
    "pretrain_received.columns"
   ]
  },
  {
   "cell_type": "code",
   "execution_count": 76,
   "metadata": {},
   "outputs": [],
   "source": [
    "###### 我是分隔線 #########\n",
    "# 建立feature of train and test data"
   ]
  },
  {
   "cell_type": "code",
   "execution_count": 89,
   "metadata": {},
   "outputs": [],
   "source": [
    "user_cnt = get_user_number(train_received, test_received)\n",
    "train_received_t = train_received.merge(user_cnt, how='left', left_on=['User_id','Date_received'], right_on=['User_id','Date_received'])\n",
    "test_received_t = test_received.merge(user_cnt, how='left', left_on=['User_id','Date_received'], right_on=['User_id','Date_received'] )"
   ]
  },
  {
   "cell_type": "code",
   "execution_count": 90,
   "metadata": {},
   "outputs": [],
   "source": [
    "user_coupon_cnt = get_user_coupon_sta(train_received, test_received)\n",
    "train_received_t = train_received_t.merge(user_coupon_cnt, how='left', left_on=['User_id','coupon_type','Date_received'], right_on=['User_id','coupon_type','Date_received'])\n",
    "test_received_t = test_received_t.merge(user_coupon_cnt, how='left', left_on=['User_id','coupon_type','Date_received'], right_on=['User_id','coupon_type','Date_received'] )"
   ]
  },
  {
   "cell_type": "code",
   "execution_count": 92,
   "metadata": {},
   "outputs": [],
   "source": [
    "merchant_cnt = get_merchant_coupon_number(train_received_t)\n",
    "train_received_t = train_received_t.merge(merchant_cnt, how='left', on = 'Merchant_id')\n",
    "merchant_cnt = get_merchant_coupon_number(test_received_t)\n",
    "test_received_t = test_received_t.merge(merchant_cnt, how='left', on = 'Merchant_id')"
   ]
  },
  {
   "cell_type": "code",
   "execution_count": 93,
   "metadata": {},
   "outputs": [],
   "source": [
    "user_cnt = get_user_coupon_number(train_received_t)\n",
    "train_received_t = train_received_t.merge(user_cnt, how='left', on = 'User_id')\n",
    "user_cnt = get_user_coupon_number(test_received_t)\n",
    "test_received_t = test_received_t.merge(user_cnt, how='left', on = 'User_id')"
   ]
  },
  {
   "cell_type": "code",
   "execution_count": 94,
   "metadata": {},
   "outputs": [],
   "source": [
    "coupon_cnt = get_coupon_id_number(train_received_t)\n",
    "train_received_t = train_received_t.merge(coupon_cnt, how='left', on = ['User_id','Coupon_id'])\n",
    "coupon_cnt = get_coupon_id_number(test_received_t)\n",
    "test_received_t = test_received_t.merge(coupon_cnt, how='left', on = ['User_id','Coupon_id'])"
   ]
  },
  {
   "cell_type": "code",
   "execution_count": 95,
   "metadata": {},
   "outputs": [],
   "source": [
    "purch_cnt = get_user_purch_number(train_purch)\n",
    "train_received_t = train_received_t.merge(purch_cnt, how='left', on = ['User_id'])\n",
    "purch_cnt = get_user_purch_number(test_purch)\n",
    "test_received_t = test_received_t.merge(purch_cnt, how='left', on = ['User_id'])"
   ]
  },
  {
   "cell_type": "code",
   "execution_count": 99,
   "metadata": {},
   "outputs": [],
   "source": [
    "train_received_t.to_pickle(\"./train_received_t.pkl\")\n",
    "test_received_t.to_pickle(\"./test_received_t.pkl\")"
   ]
  },
  {
   "cell_type": "code",
   "execution_count": null,
   "metadata": {},
   "outputs": [],
   "source": []
  }
 ],
 "metadata": {
  "kernelspec": {
   "display_name": "Python 3",
   "language": "python",
   "name": "python3"
  },
  "language_info": {
   "codemirror_mode": {
    "name": "ipython",
    "version": 3
   },
   "file_extension": ".py",
   "mimetype": "text/x-python",
   "name": "python",
   "nbconvert_exporter": "python",
   "pygments_lexer": "ipython3",
   "version": "3.7.3"
  }
 },
 "nbformat": 4,
 "nbformat_minor": 2
}
