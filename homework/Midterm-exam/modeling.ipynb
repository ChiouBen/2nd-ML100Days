{
 "cells": [
  {
   "cell_type": "code",
   "execution_count": 2,
   "metadata": {},
   "outputs": [],
   "source": [
    "import os\n",
    "import numpy as np\n",
    "import pandas as pd\n",
    "from datetime import date\n",
    "import datetime\n",
    "from sklearn.metrics import roc_auc_score, accuracy_score\n",
    "from sklearn.ensemble import RandomForestClassifier, GradientBoostingClassifier\n",
    "\n",
    "# model features\n",
    "cate_var = ['Distance', 'discount_type', 'weekday', 'weekday_type']\n",
    "conti_var = ['discount_rate', 'discount_total', 'discount_price',\n",
    "             'user_total_coupon','user_use_coupon','user_coupon_use_ratio', \n",
    "             #'user_mean_days', 'user_coupon_mean_days',\n",
    "             'send_coupon_cnt',\n",
    "             'user_purch_cnt',\n",
    "             'user_recieved_coupon_cnt',\n",
    "             'coupon_id_recieved_coupon_cnt',\n",
    "             'auser_total_cnt', 'auser_use_cnt', 'coupon_use_last_days', 'acoupon_ratio'\n",
    "            ]"
   ]
  },
  {
   "cell_type": "code",
   "execution_count": 5,
   "metadata": {},
   "outputs": [],
   "source": [
    "def generate_result(model, test_data, output):\n",
    "    \n",
    "    y_valid_pred = model.predict_proba(test_data)\n",
    "    output['pred_prob'] = y_valid_pred[:, 1]\n",
    "    output.loc[:, \"User_id\"] = output[\"User_id\"].apply(lambda x:str(int(x)))\n",
    "    output.loc[:, \"Coupon_id\"] = output[\"Coupon_id\"].apply(lambda x:str(int(x)))\n",
    "    output.loc[:, \"Date_received\"] = output[\"Date_received\"].apply(lambda x: x.strftime('%Y%m%d'))\n",
    "    output[\"uid\"] = output[[\"User_id\", \"Coupon_id\", \"Date_received\"]].apply(lambda x: '_'.join(x.values), axis=1)\n",
    "    output.reset_index(drop=True, inplace=True)\n",
    "    out = output.groupby(\"uid\", as_index=False).mean()\n",
    "    out = out[[\"uid\", \"pred_prob\"]]\n",
    "    out.columns = [\"uid\", \"label\"]\n",
    "    print(out.shape)\n",
    "    return out\n",
    "\n",
    "def generate_feature(df, conti_var, cate_var):\n",
    "    df_f = df[conti_var]\n",
    "    for i in cate_var:\n",
    "        tmp = pd.get_dummies(df[i], prefix=i)\n",
    "        df_f = pd.concat([df_f, tmp], axis=1)\n",
    "    return df_f"
   ]
  },
  {
   "cell_type": "code",
   "execution_count": null,
   "metadata": {},
   "outputs": [],
   "source": [
    "# build model for valid data"
   ]
  },
  {
   "cell_type": "code",
   "execution_count": 5,
   "metadata": {},
   "outputs": [],
   "source": [
    "pretrain_received = pd.read_pickle(\"./pretrain_received.pkl\")\n",
    "valid_received = pd.read_pickle(\"./valid_received.pkl\")"
   ]
  },
  {
   "cell_type": "code",
   "execution_count": 6,
   "metadata": {},
   "outputs": [],
   "source": [
    "pretrain_df = generate_feature(pretrain_received, conti_var, cate_var)\n",
    "valid_df = generate_feature(valid_received, conti_var, cate_var)\n",
    "pretrain_df = pretrain_df.fillna(0)\n",
    "valid_df = valid_df.fillna(0)"
   ]
  },
  {
   "cell_type": "code",
   "execution_count": 8,
   "metadata": {},
   "outputs": [],
   "source": [
    "model = GradientBoostingClassifier()\n",
    "model.fit(pretrain_df, pretrain_received['label'])\n",
    "y_valid_pred = model.predict_proba(valid_df)"
   ]
  },
  {
   "cell_type": "code",
   "execution_count": 13,
   "metadata": {},
   "outputs": [
    {
     "name": "stdout",
     "output_type": "stream",
     "text": [
      "Validation AUC: 0.856, Accuracy: 0.944\n"
     ]
    }
   ],
   "source": [
    "valid1 = valid_received.copy()\n",
    "valid1['pred_prob'] = y_valid_pred[:, 1]\n",
    "\n",
    "# Validation AUC: 0.787, Accuracy: 0.952\n",
    "# Validation AUC: 0.800, Accuracy: 0.943\n",
    "# Validation AUC: 0.822, Accuracy: 0.943x\n",
    "# Validation AUC: 0.806, Accuracy: 0.943\n",
    "# Validation AUC: 0.859, Accuracy: 0.932x\n",
    "# Validation AUC: 0.812, Accuracy: 0.932\n",
    "# Validation AUC: 0.829, Accuracy: 0.943\n",
    "# Validation AUC: 0.837, Accuracy: 0.943x\n",
    "# Validation AUC: 0.844, Accuracy: 0.944\n",
    "# Validation AUC: 0.856, Accuracy: 0.944\n",
    "auc_score = roc_auc_score(y_true=valid_received.label, y_score=y_valid_pred[:,1])\n",
    "acc = accuracy_score(y_true=valid_received.label, y_pred=y_valid_pred.argmax(axis=1))\n",
    "print(\"Validation AUC: {:.3f}, Accuracy: {:.3f}\".format(auc_score, acc))"
   ]
  },
  {
   "cell_type": "code",
   "execution_count": null,
   "metadata": {},
   "outputs": [],
   "source": [
    "# build model for test data"
   ]
  },
  {
   "cell_type": "code",
   "execution_count": 3,
   "metadata": {},
   "outputs": [],
   "source": [
    "train_received = pd.read_pickle(\"./train_received_t.pkl\")\n",
    "test_received = pd.read_pickle(\"./test_received_t.pkl\")"
   ]
  },
  {
   "cell_type": "code",
   "execution_count": 6,
   "metadata": {},
   "outputs": [],
   "source": [
    "train_df = generate_feature(train_received, conti_var, cate_var)\n",
    "test_df = generate_feature(test_received, conti_var, cate_var)\n",
    "train_df = train_df.fillna(0)\n",
    "test_df = test_df.fillna(0)"
   ]
  },
  {
   "cell_type": "code",
   "execution_count": 7,
   "metadata": {},
   "outputs": [
    {
     "name": "stderr",
     "output_type": "stream",
     "text": [
      "D:\\Anacoda3\\lib\\site-packages\\ipykernel_launcher.py:4: SettingWithCopyWarning: \n",
      "A value is trying to be set on a copy of a slice from a DataFrame.\n",
      "Try using .loc[row_indexer,col_indexer] = value instead\n",
      "\n",
      "See the caveats in the documentation: http://pandas.pydata.org/pandas-docs/stable/indexing.html#indexing-view-versus-copy\n",
      "  after removing the cwd from sys.path.\n",
      "D:\\Anacoda3\\lib\\site-packages\\pandas\\core\\indexing.py:543: SettingWithCopyWarning: \n",
      "A value is trying to be set on a copy of a slice from a DataFrame.\n",
      "Try using .loc[row_indexer,col_indexer] = value instead\n",
      "\n",
      "See the caveats in the documentation: http://pandas.pydata.org/pandas-docs/stable/indexing.html#indexing-view-versus-copy\n",
      "  self.obj[item] = s\n",
      "D:\\Anacoda3\\lib\\site-packages\\ipykernel_launcher.py:8: SettingWithCopyWarning: \n",
      "A value is trying to be set on a copy of a slice from a DataFrame.\n",
      "Try using .loc[row_indexer,col_indexer] = value instead\n",
      "\n",
      "See the caveats in the documentation: http://pandas.pydata.org/pandas-docs/stable/indexing.html#indexing-view-versus-copy\n",
      "  \n"
     ]
    },
    {
     "name": "stdout",
     "output_type": "stream",
     "text": [
      "(304096, 2)\n"
     ]
    }
   ],
   "source": [
    "# model GradientBoosting\n",
    "model = GradientBoostingClassifier(learning_rate=0.1, n_estimators=300)\n",
    "model.fit(train_df, train_received['label'])\n",
    "output = test_received[[\"User_id\", \"Coupon_id\", \"Date_received\"]]\n",
    "out = generate_result(model, test_df, output)\n",
    "out.to_csv(\"add_purch_cnt_gdbt_3.csv\", header=[\"uid\", \"label\"], index=False)"
   ]
  },
  {
   "cell_type": "code",
   "execution_count": 36,
   "metadata": {},
   "outputs": [],
   "source": [
    "from sklearn.model_selection import RandomizedSearchCV\n",
    "from xgboost import XGBClassifier\n",
    "\n",
    "gdbc_param_grid = {\n",
    "    'n_estimators': [50, 100, 200, 300], # 樹有幾棵\n",
    "    'learning_rate': [.1, .5, .01, .05]\n",
    "    }\n",
    "gdbc = GradientBoostingClassifier()\n",
    "\n",
    "gdbc_random = RandomizedSearchCV(param_distributions=gdbc_param_grid,\n",
    "                   estimator=gdbc,\n",
    "                   scoring=\"roc_auc\",verbose=1,\n",
    "                   n_iter=50, \n",
    "                   cv=4,\n",
    "                   n_jobs=-1)"
   ]
  },
  {
   "cell_type": "code",
   "execution_count": null,
   "metadata": {},
   "outputs": [
    {
     "name": "stderr",
     "output_type": "stream",
     "text": [
      "D:\\Anacoda3\\lib\\site-packages\\sklearn\\model_selection\\_search.py:271: UserWarning: The total space of parameters 16 is smaller than n_iter=50. Running 16 iterations. For exhaustive searches, use GridSearchCV.\n",
      "  % (grid_size, self.n_iter, grid_size), UserWarning)\n",
      "[Parallel(n_jobs=-1)]: Using backend LokyBackend with 8 concurrent workers.\n"
     ]
    },
    {
     "name": "stdout",
     "output_type": "stream",
     "text": [
      "Fitting 4 folds for each of 16 candidates, totalling 64 fits\n"
     ]
    }
   ],
   "source": [
    "# Fit randomized_mse to the data\n",
    "gdbc_random.fit(pretrain_df, pretrain_received['label'])\n",
    "print(\"Best parameters found: \", gdbc_random.best_params_)\n",
    "print(\"Best accuracy found: \", gdbc_random.best_score_)"
   ]
  },
  {
   "cell_type": "code",
   "execution_count": 35,
   "metadata": {},
   "outputs": [
    {
     "name": "stderr",
     "output_type": "stream",
     "text": [
      "D:\\Anacoda3\\lib\\site-packages\\ipykernel_launcher.py:4: SettingWithCopyWarning: \n",
      "A value is trying to be set on a copy of a slice from a DataFrame.\n",
      "Try using .loc[row_indexer,col_indexer] = value instead\n",
      "\n",
      "See the caveats in the documentation: http://pandas.pydata.org/pandas-docs/stable/indexing.html#indexing-view-versus-copy\n",
      "  after removing the cwd from sys.path.\n",
      "D:\\Anacoda3\\lib\\site-packages\\ipykernel_launcher.py:8: SettingWithCopyWarning: \n",
      "A value is trying to be set on a copy of a slice from a DataFrame.\n",
      "Try using .loc[row_indexer,col_indexer] = value instead\n",
      "\n",
      "See the caveats in the documentation: http://pandas.pydata.org/pandas-docs/stable/indexing.html#indexing-view-versus-copy\n",
      "  \n"
     ]
    },
    {
     "name": "stdout",
     "output_type": "stream",
     "text": [
      "(304096, 2)\n"
     ]
    }
   ],
   "source": [
    "# model xgboost\n",
    "xgbc = XGBClassifier(n_estimators=200, max_depth=10)\n",
    "\n",
    "xgbc.fit(train_df, train_received['label'])\n",
    "output = test_received[[\"User_id\", \"Coupon_id\", \"Date_received\"]]\n",
    "out = generate_result(xgbc, test_df, output)\n",
    "out.to_csv(\"xgbc_3.csv\", header=[\"uid\", \"label\"], index=False)"
   ]
  },
  {
   "cell_type": "code",
   "execution_count": null,
   "metadata": {},
   "outputs": [],
   "source": []
  }
 ],
 "metadata": {
  "kernelspec": {
   "display_name": "Python 3",
   "language": "python",
   "name": "python3"
  },
  "language_info": {
   "codemirror_mode": {
    "name": "ipython",
    "version": 3
   },
   "file_extension": ".py",
   "mimetype": "text/x-python",
   "name": "python",
   "nbconvert_exporter": "python",
   "pygments_lexer": "ipython3",
   "version": "3.7.3"
  }
 },
 "nbformat": 4,
 "nbformat_minor": 2
}
