{
 "cells": [
  {
   "cell_type": "markdown",
   "metadata": {},
   "source": [
    "## 機器學習裡常見的問題有\n",
    "    * 分類問題\n",
    "    * 預測問題\n",
    "    * 分群問題\n",
    "    * 降維問題"
   ]
  },
  {
   "cell_type": "markdown",
   "metadata": {},
   "source": [
    "## 分類問題\n",
    "判斷垃圾郵件為一種常見的分類問題，目標為訓練一個模型分辨收到的電子郵件是垃圾郵件還是正常郵件。一個訓練好的分類模型對一封電子郵件的分類結果有以下4種:\n",
    "1. 實際上為垃圾郵件，系統判斷為垃圾郵件\n",
    "2. 實際上為垃圾郵件，系統判斷為正常郵件\n",
    "3. 實際上為正常郵件，系統判斷為垃圾郵件\n",
    "4. 實際上為正常郵件，系統判斷為正常郵件 \n",
    "\n",
    "其中1,4為分類正確，2,3為分類錯誤。可以用以下表格(Confusion Matrix)表示:\n",
    "\n",
    "| 真實值\\預測值 |    垃圾郵件    |    正常郵件    |\n",
    "| ------------ |   ----------  |   ----------  |\n",
    "|    垃圾郵件  | True Positive (TP)  |  False Positive (FP) |\n",
    "|    正常郵件  | False Negative (FN) |  True Negative (TN) |\n",
    "\n",
    "假設有100封郵件，其中TP = 5, FP = 5, FN = 0, TN = 90\n",
    "也就是說正常郵件有 FN + TN = 90，垃圾郵件有 TP + FP = 10封。\n",
    "\n",
    "模型判斷正常的有 TP + TN = 95封，\n",
    "模型判斷錯誤的有 FN + FP = 5封。\n",
    "\n",
    "以下介紹在**分類問題**裡常見的評估指標 (Evaluation Metrics):"
   ]
  },
  {
   "cell_type": "markdown",
   "metadata": {},
   "source": [
    "### 1. Accuracy (準確度)\n",
    "準確度為模型判斷正確的機率，公式如下\n",
    " \n",
    " $$ Accuracy = \\frac{TP+TN}{TP+FP+TN+FN} $$\n",
    "\n",
    "用分類垃圾郵件的例子可以算出 $ Accuracy = \\frac{95}{100}=0.95 $\n",
    " \n",
    "看起來結果不錯，訓練出來的模型有9成5的準確度。\n",
    "\n",
    "假設我們現在有一個分類器，分類器的邏輯很簡單，所有信件都判斷為正常信件，則該分類器的準確度有9成，看起來也不錯，但其實這個情況下所有的垃圾郵件都分類錯誤了，該分類器可以說毫無用處!!\n",
    "\n",
    "會造成這種情況的原因為垃圾郵件在所有郵件裡的比例很低，大部分的郵件都是正常郵件，導致準確度不是一個適合的評估指標。上述的情況為Accuracy Paradox，常在非均衡數據集中遇到。"
   ]
  },
  {
   "cell_type": "markdown",
   "metadata": {},
   "source": [
    "### 2. Precision (精確度)\n"
   ]
  },
  {
   "cell_type": "markdown",
   "metadata": {},
   "source": [
    "### 3. Recall (召回率)\n"
   ]
  },
  {
   "cell_type": "markdown",
   "metadata": {},
   "source": [
    "### 4. F-Measure\n"
   ]
  },
  {
   "cell_type": "markdown",
   "metadata": {},
   "source": [
    "### 5. MCC\n"
   ]
  },
  {
   "cell_type": "markdown",
   "metadata": {},
   "source": [
    "### 6. ROC\n"
   ]
  },
  {
   "cell_type": "markdown",
   "metadata": {},
   "source": [
    "### 7. AUC\n"
   ]
  },
  {
   "cell_type": "markdown",
   "metadata": {},
   "source": [
    "### 8. MAP\n"
   ]
  },
  {
   "cell_type": "markdown",
   "metadata": {},
   "source": [
    "### 9. MRR (精確度)"
   ]
  }
 ],
 "metadata": {
  "kernelspec": {
   "display_name": "Python 3",
   "language": "python",
   "name": "python3"
  },
  "language_info": {
   "codemirror_mode": {
    "name": "ipython",
    "version": 3
   },
   "file_extension": ".py",
   "mimetype": "text/x-python",
   "name": "python",
   "nbconvert_exporter": "python",
   "pygments_lexer": "ipython3",
   "version": "3.7.3"
  }
 },
 "nbformat": 4,
 "nbformat_minor": 2
}
