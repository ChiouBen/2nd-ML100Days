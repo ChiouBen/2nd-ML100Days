{
 "cells": [
  {
   "cell_type": "markdown",
   "metadata": {},
   "source": [
    "### 探索式資料分析（Exploratory Data Analysis，簡稱 EDA）\n",
    "常見的資料欄位類型有:\n",
    "    1. 文字 (string): 一般需在經過處理(parse)才能使用\n",
    "    2. 數值 (interger & float)\n",
    "    3. 布林值 (boolean): a binary variable, having two possible values called 'true' and 'false'.\n",
    "    4. 類別型變數 (categorical variable): 變量值為有限的且互為不相同的類別或屬性，在處理上通常轉成dummy variables\n",
    "    5. 時間 (date & datetime)"
   ]
  },
  {
   "cell_type": "markdown",
   "metadata": {},
   "source": [
    "在討論兩個變數之間的相關性時分成以下幾種:\n",
    "    1. 皆為數值型變數: 相關係數 (Pearson product-moment correlation coefficient)\n",
    "    2. 皆為類別型變數: 卡方獨立性檢定 (Chi-Square test)\n",
    "    3. 數值型與類別型變數: 變異數分析(One-way ANOVA test)"
   ]
  }
 ],
 "metadata": {
  "kernelspec": {
   "display_name": "Python 3",
   "language": "python",
   "name": "python3"
  },
  "language_info": {
   "codemirror_mode": {
    "name": "ipython",
    "version": 3
   },
   "file_extension": ".py",
   "mimetype": "text/x-python",
   "name": "python",
   "nbconvert_exporter": "python",
   "pygments_lexer": "ipython3",
   "version": "3.7.3"
  }
 },
 "nbformat": 4,
 "nbformat_minor": 2
}
